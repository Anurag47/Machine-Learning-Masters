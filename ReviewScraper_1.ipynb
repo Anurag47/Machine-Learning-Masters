{
 "cells": [
  {
   "cell_type": "code",
   "execution_count": 143,
   "metadata": {},
   "outputs": [],
   "source": [
    "from bs4 import BeautifulSoup as bs"
   ]
  },
  {
   "cell_type": "code",
   "execution_count": 144,
   "metadata": {},
   "outputs": [],
   "source": [
    "import requests"
   ]
  },
  {
   "cell_type": "code",
   "execution_count": 160,
   "metadata": {},
   "outputs": [],
   "source": [
    "url=\"https://www.flipkart.com/fashion-frill-trendy-fancy-men-gold-plated-plated-metal-chain/p/itmewaqy9rkzszqp?pid=NKCEW9ACYNTQCA3S&lid=LSTNKCEW9ACYNTQCA3SMIND2E&marketplace=FLIPKART&srno=b_1_1&otracker=hp_reco_Trending%2BOffers_5_13.dealCard.OMU_Trending%2BOffers_cid%3AS_F_N_mcr_96v_0vq_vs6__o_nb_mp_013bf8a724__NONE_ALL%3Bnid%3Amcr_96v_0vq_vs6_%3Bmp%3AF%3Bct%3Ao%3B_10&otracker1=hp_reco_WHITELISTED_personalisedRecommendation%2FC2_Trending%2BOffers_DESKTOP_HORIZONTAL_dealCard_cc_5_NA_view-all_10&fm=personalisedRecommendation%2FC2&iid=6d5231bb-966e-48b4-9416-f6401a89f48f.NKCEW9ACYNTQCA3S.SEARCH&ppt=browse&ppn=browse&ssid=ssb99to5sg0000001583068100686\"\n",
    "req_data=requests.get(url)"
   ]
  },
  {
   "cell_type": "code",
   "execution_count": 161,
   "metadata": {},
   "outputs": [],
   "source": [
    "review=bs(req_data.content,'html.parser')"
   ]
  },
  {
   "cell_type": "code",
   "execution_count": 162,
   "metadata": {},
   "outputs": [],
   "source": [
    "all_reviews=review.find_all('div',{'class':'col _39LH-M'})"
   ]
  },
  {
   "cell_type": "code",
   "execution_count": 167,
   "metadata": {},
   "outputs": [],
   "source": [
    "URL='https://www.flipkart.com'\n",
    "data=review.find('div',{'class':'swINJg _3cycCZ'})"
   ]
  },
  {
   "cell_type": "code",
   "execution_count": 168,
   "metadata": {},
   "outputs": [],
   "source": [
    "url_href=data.find_parent().get('href')"
   ]
  },
  {
   "cell_type": "code",
   "execution_count": 169,
   "metadata": {},
   "outputs": [
    {
     "data": {
      "text/plain": [
       "'https://www.flipkart.com/fashion-frill-trendy-fancy-men-gold-plated-plated-metal-chain/product-reviews/itmewaqy9rkzszqp?pid=NKCEW9ACYNTQCA3S&lid=LSTNKCEW9ACYNTQCA3SMIND2E&marketplace=FLIPKART'"
      ]
     },
     "execution_count": 169,
     "metadata": {},
     "output_type": "execute_result"
    }
   ],
   "source": [
    "url_new=URL+url_href\n",
    "url_new"
   ]
  },
  {
   "cell_type": "code",
   "execution_count": 171,
   "metadata": {},
   "outputs": [],
   "source": [
    "req_data_review=requests.get(url_new)\n",
    "reviews_full=bs(req_data_review.content,'html.parser')"
   ]
  },
  {
   "cell_type": "code",
   "execution_count": 186,
   "metadata": {},
   "outputs": [
    {
     "name": "stdout",
     "output_type": "stream",
     "text": [
      "https://www.flipkart.com/fashion-frill-trendy-fancy-men-gold-plated-plated-metal-chain/product-reviews/itmewaqy9rkzszqp?pid=NKCEW9ACYNTQCA3S&lid=LSTNKCEW9ACYNTQCA3SMIND2E&marketplace=FLIPKART&page=14\n",
      "[['Good', 'nice', 'super', 'food products', 'ok', 'Good', 'Bad product', 'Good', 'nice', 'very nice product..']]\n",
      "[['Sonu Prasad ', 'Flipkart Customer', 'Flipkart Customer', 'ashish  dubey', 'Flipkart Customer', 'Prafull Bajait', 'Pradum Singh', 'Flipkart Customer', 'Flipkart Customer', 'mohan  komarpant']]\n",
      "[['4GoodREAD MORE', '5niceREAD MORE', '5superREAD MORE', '5food productsREAD MORE', '2okREAD MORE', '4GoodREAD MORE', '1Bad productREAD MORE', '5GoodREAD MORE', '4niceREAD MORE', '5very nice product..READ MORE']]\n"
     ]
    }
   ],
   "source": [
    "next=reviews_full.findAll('a',{'class':'_3fVaIS'})\n",
    "if len(next)>1:\n",
    "    next=next[1].get('href')\n",
    "else:\n",
    "    next=next[0].get('href')\n",
    "url_new=URL+next\n",
    "print(url_new)\n",
    "req_data_review=requests.get(url_new)\n",
    "reviews_full=bs(req_data_review.content,'html.parser')\n",
    "full_reviews=reviews_full.find_all('div',{'class':'ooJZfD _2oZ8XT col-9-12'})\n",
    "rev_head=[]\n",
    "user_name=[]\n",
    "rev_desc=[]\n",
    "for r in full_reviews:\n",
    "    rev=r.find_all('div',{'class':'_2t8wE0'})\n",
    "    rev=[e.get_text() for e in rev]\n",
    "    user=r.find_all('p',{'class':'_3LYOAd _3sxSiS _2675cp'})\n",
    "    user=[e.get_text() for e in user]\n",
    "    desc=r.find_all('div',{'class':'qwjRop'})\n",
    "    desc=[e.get_text() for e in desc]\n",
    "    rev_head.append(rev)\n",
    "    user_name.append(user)\n",
    "    rev_desc.append(desc)\n",
    "\n",
    "print(rev_head)\n",
    "print(user_name)\n",
    "print(rev_desc)"
   ]
  },
  {
   "cell_type": "code",
   "execution_count": 153,
   "metadata": {},
   "outputs": [],
   "source": [
    "next=reviews_full.findAll('a',{'class':'_3fVaIS'})"
   ]
  },
  {
   "cell_type": "code",
   "execution_count": 154,
   "metadata": {},
   "outputs": [
    {
     "data": {
      "text/plain": [
       "[<a class=\"_3fVaIS\" href=\"/realme-5i-forest-green-64-gb/product-reviews/itmdac0da867a9fa?pid=MOBFNG3GNW3BU2XE&amp;lid=LSTMOBFNG3GNW3BU2XERAL9TG&amp;marketplace=FLIPKART&amp;page=2\"><span>Next</span></a>]"
      ]
     },
     "execution_count": 154,
     "metadata": {},
     "output_type": "execute_result"
    }
   ],
   "source": [
    "next"
   ]
  }
 ],
 "metadata": {
  "kernelspec": {
   "display_name": "Python 3",
   "language": "python",
   "name": "python3"
  },
  "language_info": {
   "codemirror_mode": {
    "name": "ipython",
    "version": 3
   },
   "file_extension": ".py",
   "mimetype": "text/x-python",
   "name": "python",
   "nbconvert_exporter": "python",
   "pygments_lexer": "ipython3",
   "version": "3.7.4"
  }
 },
 "nbformat": 4,
 "nbformat_minor": 2
}
