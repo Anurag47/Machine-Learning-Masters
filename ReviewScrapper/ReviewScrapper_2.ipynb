{
 "cells": [
  {
   "cell_type": "code",
   "execution_count": 1,
   "metadata": {},
   "outputs": [],
   "source": [
    "from bs4 import BeautifulSoup as bs\n",
    "import requests"
   ]
  },
  {
   "cell_type": "code",
   "execution_count": 29,
   "metadata": {},
   "outputs": [],
   "source": [
    "url=\"https://www.flipkart.com/fashion-frill-trendy-fancy-men-gold-plated-plated-metal-chain/p/itmewaqy9rkzszqp?pid=NKCEW9ACYNTQCA3S&lid=LSTNKCEW9ACYNTQCA3SMIND2E&marketplace=FLIPKART&srno=b_1_1&otracker=hp_reco_Trending%2BOffers_5_13.dealCard.OMU_Trending%2BOffers_cid%3AS_F_N_mcr_96v_0vq_vs6__o_nb_mp_013bf8a724__NONE_ALL%3Bnid%3Amcr_96v_0vq_vs6_%3Bmp%3AF%3Bct%3Ao%3B_10&otracker1=hp_reco_WHITELISTED_personalisedRecommendation%2FC2_Trending%2BOffers_DESKTOP_HORIZONTAL_dealCard_cc_5_NA_view-all_10&fm=personalisedRecommendation%2FC2&iid=6d5231bb-966e-48b4-9416-f6401a89f48f.NKCEW9ACYNTQCA3S.SEARCH&ppt=browse&ppn=browse&ssid=ssb99to5sg0000001583068100686\"\n",
    "req_data=requests.get(url)\n",
    "review=bs(req_data.content,'html.parser')"
   ]
  },
  {
   "cell_type": "code",
   "execution_count": 30,
   "metadata": {},
   "outputs": [],
   "source": [
    "all_reviews=review.find_all('div',{'class':'col _39LH-M'})"
   ]
  },
  {
   "cell_type": "code",
   "execution_count": 86,
   "metadata": {},
   "outputs": [
    {
     "data": {
      "text/plain": [
       "'https://www.flipkart.com/fashion-frill-trendy-fancy-men-gold-plated-plated-metal-chain/product-reviews/itmewaqy9rkzszqp?pid=NKCEW9ACYNTQCA3S&lid=LSTNKCEW9ACYNTQCA3SMIND2E&marketplace=FLIPKART'"
      ]
     },
     "execution_count": 86,
     "metadata": {},
     "output_type": "execute_result"
    }
   ],
   "source": [
    "URL='https://www.flipkart.com'\n",
    "data=review.find('div',{'class':'swINJg _3cycCZ'})\n",
    "url_href=data.find_parent().get('href')\n",
    "url_new=URL+url_href\n",
    "url_new"
   ]
  },
  {
   "cell_type": "code",
   "execution_count": 87,
   "metadata": {},
   "outputs": [],
   "source": [
    "req_data_review=requests.get(url_new)\n",
    "reviews_full=bs(req_data_review.content,'html.parser')"
   ]
  },
  {
   "cell_type": "code",
   "execution_count": 85,
   "metadata": {},
   "outputs": [
    {
     "name": "stdout",
     "output_type": "stream",
     "text": [
      "['Exlent', 'recomendable', 'Very bad product', 'good 😁', 'Nice but not so well', 'As it is shown in the picture, quite heavy as well...', 'Very good👍', 'Good quality but the length is a bit small', 'bad product', 'very good']\n",
      "['Flipkart Customer', 'Flipkart Customer', 'varun sharma', 'Flipkart Customer', 'Akash  Aher', 'Anushri Paul', 'Hashmat ali Khan', 'Manjulee Shill', 'Flipkart Customer', 'Kundan Kumar']\n",
      "['5ExlentREAD MORE', '5recomendableREAD MORE', '2Very bad productREAD MORE', '5good 😁READ MORE', '3Nice but not so wellREAD MORE', '5As it is shown in the picture, quite heavy as well...READ MORE', '5Very good👍READ MORE', '5Good quality but the length is a bit smallREAD MORE', '1bad productREAD MORE', '5very goodREAD MORE']\n"
     ]
    }
   ],
   "source": [
    "full_reviews=reviews_full.find_all('div',{'class':'ooJZfD _2oZ8XT col-9-12'})\n",
    "for r in full_reviews:\n",
    "        rev=r.find_all('div',{'class':'_2t8wE0'})\n",
    "        rev=[e.get_text() for e in rev]\n",
    "        user=r.find_all('p',{'class':'_3LYOAd _3sxSiS _2675cp'})\n",
    "        user=[e.get_text() for e in user]\n",
    "        desc=r.find_all('div',{'class':'qwjRop'})\n",
    "        desc=[e.get_text() for e in desc]\n",
    "        print(rev)\n",
    "        print(user)\n",
    "        print(desc)"
   ]
  },
  {
   "cell_type": "code",
   "execution_count": 88,
   "metadata": {},
   "outputs": [
    {
     "name": "stdout",
     "output_type": "stream",
     "text": [
      "15\n"
     ]
    }
   ],
   "source": [
    "pages=reviews_full.find_all('div',{'class':'_2zg3yZ _3KSYCY'})\n",
    "totalpages=int(pages[0].span.get_text().split()[-1])\n",
    "print(totalpages)"
   ]
  },
  {
   "cell_type": "code",
   "execution_count": 89,
   "metadata": {},
   "outputs": [
    {
     "name": "stdout",
     "output_type": "stream",
     "text": [
      "https://www.flipkart.com/fashion-frill-trendy-fancy-men-gold-plated-plated-metal-chain/product-reviews/itmewaqy9rkzszqp?pid=NKCEW9ACYNTQCA3S&lid=LSTNKCEW9ACYNTQCA3SMIND2E&marketplace=FLIPKART\n",
      "https://www.flipkart.com/fashion-frill-trendy-fancy-men-gold-plated-plated-metal-chain/product-reviews/itmewaqy9rkzszqp?pid=NKCEW9ACYNTQCA3S&lid=LSTNKCEW9ACYNTQCA3SMIND2E&marketplace=FLIPKART&page=2\n",
      "https://www.flipkart.com/fashion-frill-trendy-fancy-men-gold-plated-plated-metal-chain/product-reviews/itmewaqy9rkzszqp?pid=NKCEW9ACYNTQCA3S&lid=LSTNKCEW9ACYNTQCA3SMIND2E&marketplace=FLIPKART&page=3\n",
      "https://www.flipkart.com/fashion-frill-trendy-fancy-men-gold-plated-plated-metal-chain/product-reviews/itmewaqy9rkzszqp?pid=NKCEW9ACYNTQCA3S&lid=LSTNKCEW9ACYNTQCA3SMIND2E&marketplace=FLIPKART&page=4\n",
      "https://www.flipkart.com/fashion-frill-trendy-fancy-men-gold-plated-plated-metal-chain/product-reviews/itmewaqy9rkzszqp?pid=NKCEW9ACYNTQCA3S&lid=LSTNKCEW9ACYNTQCA3SMIND2E&marketplace=FLIPKART&page=5\n",
      "https://www.flipkart.com/fashion-frill-trendy-fancy-men-gold-plated-plated-metal-chain/product-reviews/itmewaqy9rkzszqp?pid=NKCEW9ACYNTQCA3S&lid=LSTNKCEW9ACYNTQCA3SMIND2E&marketplace=FLIPKART&page=6\n",
      "https://www.flipkart.com/fashion-frill-trendy-fancy-men-gold-plated-plated-metal-chain/product-reviews/itmewaqy9rkzszqp?pid=NKCEW9ACYNTQCA3S&lid=LSTNKCEW9ACYNTQCA3SMIND2E&marketplace=FLIPKART&page=7\n",
      "https://www.flipkart.com/fashion-frill-trendy-fancy-men-gold-plated-plated-metal-chain/product-reviews/itmewaqy9rkzszqp?pid=NKCEW9ACYNTQCA3S&lid=LSTNKCEW9ACYNTQCA3SMIND2E&marketplace=FLIPKART&page=8\n",
      "https://www.flipkart.com/fashion-frill-trendy-fancy-men-gold-plated-plated-metal-chain/product-reviews/itmewaqy9rkzszqp?pid=NKCEW9ACYNTQCA3S&lid=LSTNKCEW9ACYNTQCA3SMIND2E&marketplace=FLIPKART&page=9\n",
      "https://www.flipkart.com/fashion-frill-trendy-fancy-men-gold-plated-plated-metal-chain/product-reviews/itmewaqy9rkzszqp?pid=NKCEW9ACYNTQCA3S&lid=LSTNKCEW9ACYNTQCA3SMIND2E&marketplace=FLIPKART&page=10\n",
      "https://www.flipkart.com/fashion-frill-trendy-fancy-men-gold-plated-plated-metal-chain/product-reviews/itmewaqy9rkzszqp?pid=NKCEW9ACYNTQCA3S&lid=LSTNKCEW9ACYNTQCA3SMIND2E&marketplace=FLIPKART&page=11\n",
      "https://www.flipkart.com/fashion-frill-trendy-fancy-men-gold-plated-plated-metal-chain/product-reviews/itmewaqy9rkzszqp?pid=NKCEW9ACYNTQCA3S&lid=LSTNKCEW9ACYNTQCA3SMIND2E&marketplace=FLIPKART&page=12\n",
      "https://www.flipkart.com/fashion-frill-trendy-fancy-men-gold-plated-plated-metal-chain/product-reviews/itmewaqy9rkzszqp?pid=NKCEW9ACYNTQCA3S&lid=LSTNKCEW9ACYNTQCA3SMIND2E&marketplace=FLIPKART&page=13\n",
      "https://www.flipkart.com/fashion-frill-trendy-fancy-men-gold-plated-plated-metal-chain/product-reviews/itmewaqy9rkzszqp?pid=NKCEW9ACYNTQCA3S&lid=LSTNKCEW9ACYNTQCA3SMIND2E&marketplace=FLIPKART&page=14\n",
      "https://www.flipkart.com/fashion-frill-trendy-fancy-men-gold-plated-plated-metal-chain/product-reviews/itmewaqy9rkzszqp?pid=NKCEW9ACYNTQCA3S&lid=LSTNKCEW9ACYNTQCA3SMIND2E&marketplace=FLIPKART&page=15\n",
      "Completed\n",
      "[['Exlent', 'recomendable', 'Very bad product', 'good 😁', 'Nice but not so well', 'As it is shown in the picture, quite heavy as well...', 'Very good👍', 'Good quality but the length is a bit small', 'bad product', 'very good'], ['super', 'very bed product', 'good chain', 'nice 1', 'not good product', \"it's good\", 'I love 💋', 'God', 'super awesome product', 'good product'], ['Good', 'Good', 'Money loss', 'So amazing', 'nice', 'Good and delightfulThanks', 'very good', 'ok', 'Nice', 'avarage'], ['Nic and good', 'Good quality', 'ok', 'very nice product', 'good', 'good product', 'good', 'good', 'nice product', 'Nice'], ['very  nice', 'bekar quality ☹️', 'Super products', 'very good', 'Nice', 'good imtem', 'ok', 'super', 'good productive', 'best quality'], ['wow', 'bad', 'veryy bad', 'nice', 'Very good product', 'not bad', 'osm', 'not good', 'Nice chain', 'Awesome chain'], ['so so product...', 'good quality product❣️❣️❣️❣️', 'good', \"third class don't buy this brand products\", 'nice product', 'good', 'Good', 'super', 'good', 'product bad'], ['nice products', 'good', 'good', 'nice chain very good', 'Very Good product', 'nice product', 'It is in Average', 'good', 'good', 'is the establishment apo'], ['Good', 'super  I loved it', 'Horrible', 'very bad', 'nice product', 'Item was not good', 'It was ok....but I found quality is not upto the mark hence I Returned', 'good', 'prety good', 'Awesome'], ['not good', 'puar prodekt me use no like black padgya he', 'very good product', 'very low quality and color very bad product', 'Amazing', 'Super', 'thanks', 'ok', 'Good', 'nice product'], ['good', 'very short chain and finishing not good', 'very good and my frnds liked it and asked one more order for them', 'very nice', 'good', 'it looks artificial', 'good', 'poor quality', 'supar', 'nice'], ['super', 'Thomas thin', 'aslam', 'great.. .', 'not better', 'Keep rolling guys gud stuff', 'nice', 'ok', 'ok', 'best jawelary'], [\"it's good\", 'nice', 'wrost product', 'very good', \"Remove color after 10 day's uses...\", 'good', 'Supar', 'not good', 'Ok', 'Nice'], ['nice', 'Good', 'nice', 'super', 'food products', 'ok', 'Good', 'Bad product', 'Good', 'nice'], ['very nice product..', 'Very bad']]\n",
      "\n",
      "\n",
      "\n",
      "[['Flipkart Customer', 'Flipkart Customer', 'varun sharma', 'Flipkart Customer', 'Akash  Aher', 'Anushri Paul', 'Hashmat ali Khan', 'Manjulee Shill', 'Flipkart Customer', 'Kundan Kumar'], ['Ganesh Ganesh', 'Jay  Prakash', 'Ghanshyam  Dewangan', 'Flipkart Customer', 'Flipkart Customer', 'Flipkart Customer', 'Abhay Singh', 'Naveen kumar S', 'Shyam  Senthil', 'Flipkart Customer'], ['Flipkart Customer', 'Mousumi', 'Flipkart Customer', 'Flipkart Customer', 'Santosh kumar Singh', 'Seema Rastogi', 'Flipkart Customer', 'Naveen D', 'Flipkart Customer', 'Dhairyashil Raorane'], ['Flipkart Customer', 'bikash mistry', 'Flipkart Customer', 'ASHOK BEHERA', 'Pradeep Barethiya', 'ankit upadhyay', 'Flipkart Customer', 'Flipkart Customer', 'Ekambaram Naga mahesh', 'Flipkart Customer'], ['Flipkart Customer', 'SHUBHAM  Saeaswat', 'Flipkart Customer', 'Flipkart Customer', 'MANOJ KUMAR', 'Flipkart Customer', 'Flipkart Customer', 'shashikumar guttedar', 'Flipkart Customer', 'Flipkart Customer'], ['Flipkart Customer', 'Flipkart Customer', 'Arif  ali', 'P. M.  Veeran', 'Flipkart Customer', 'Shivam Singh', 'Sameer Shaikh', 'rabi prasad', 'Flipkart Customer', 'Flipkart Customer'], ['ketul upadhyay', 'Adarsh A S', 'Flipkart Customer', 'Flipkart Customer', 'Anand  Anand chaubey', 'Pavan Kumar', 'Adv Aishpaul', 'Flipkart Customer', 'Flipkart Customer', 'Rajesh Gorrela'], ['Flipkart Customer', 'Bhas Karan', 'Sk.  Afzal', 'Flipkart Customer', 'Mayur Modi', 'Flipkart Customer', 'Vishal  Kumar', 'Ranjan kumar', 'Flipkart Customer', 'Mohammad Shahid'], ['Dhramendre Mandre', 'Flipkart Customer', 'Ritik Rustagi', 'Rajat Thakur', 'Flipkart Customer', 'Sanjiv Kumar', 'Venukumar M', 'ANIL KUMAR', 'Flipkart Customer', 'Rajat arora'], ['Sallu  Ahmed', 'Flipkart Customer', 'Lakhsman choudhury', 'Rajeev.Kumar', 'Flipkart Customer', 'Jems  Soni', 'Zara Khan', 'Flipkart Customer', 'Flipkart Customer', 'Flipkart Customer'], ['Flipkart Customer', 'Najma Salman ', 'Flipkart Customer', 'Bunty Medewad', 'Flipkart Customer', 'Flipkart Customer', 'Natarajan Natarajan', 'Flipkart Customer', 'Flipkart Customer', 'Mahesh Maheshjat'], ['Flipkart Customer', 'Babi rout', 'Aslam Ali', 'Flipkart Customer', 'Flipkart Customer', 'Flipkart Customer', 'Rama pravallika balasani', 'Partha Pratim (Arup) Roy', 'Flipkart Customer', 'Avinash Mandwe'], ['Sapna Pk', 'Amit  Kumar', 'Ashok Redyal', 'Deepak Sharma', 'shubham kondhekar', 'Tarun  Upadhyay', 'Flipkart Customer', 'Flipkart Customer', 'SRIKANTH  AITIPAMULA ', 'Flipkart Customer'], ['Flipkart Customer', 'Sonu Prasad ', 'Flipkart Customer', 'Flipkart Customer', 'ashish  dubey', 'Flipkart Customer', 'Prafull Bajait', 'Pradum Singh', 'Flipkart Customer', 'Flipkart Customer'], ['mohan  komarpant', 'Flipkart Customer']]\n",
      "\n",
      "\n",
      "\n",
      "[['5ExlentREAD MORE', '5recomendableREAD MORE', '2Very bad productREAD MORE', '5good 😁READ MORE', '3Nice but not so wellREAD MORE', '5As it is shown in the picture, quite heavy as well...READ MORE', '5Very good👍READ MORE', '5Good quality but the length is a bit smallREAD MORE', '1bad productREAD MORE', '5very goodREAD MORE'], ['5superREAD MORE', '1very bed productREAD MORE', '5good chainREAD MORE', '4nice 1READ MORE', '1not good productREAD MORE', \"1it's goodREAD MORE\", '5I love 💋READ MORE', '2GodREAD MORE', '5super awesome productREAD MORE', '4good productREAD MORE'], ['3GoodREAD MORE', '5GoodREAD MORE', '1Money lossREAD MORE', '5So amazingREAD MORE', '5niceREAD MORE', '5Good and delightfulThanksREAD MORE', '5very goodREAD MORE', '4okREAD MORE', '4NiceREAD MORE', '3avarageREAD MORE'], ['5Nic and goodREAD MORE', '5Good qualityREAD MORE', '1okREAD MORE', '5very nice productREAD MORE', '4goodREAD MORE', '5good productREAD MORE', '4goodREAD MORE', '4goodREAD MORE', '5nice productREAD MORE', '5NiceREAD MORE'], ['4very  niceREAD MORE', '1bekar quality ☹️READ MORE', '5Super productsREAD MORE', '4very goodREAD MORE', '5NiceREAD MORE', '5good imtemREAD MORE', '3okREAD MORE', '4superREAD MORE', '5good productiveREAD MORE', '3best qualityREAD MORE'], ['4wowREAD MORE', '1badREAD MORE', '1veryy badREAD MORE', '5niceREAD MORE', '5Very good productREAD MORE', '5not badREAD MORE', '5osmREAD MORE', '1not goodREAD MORE', '5Nice chainREAD MORE', '5Awesome chainREAD MORE'], ['1so so product...READ MORE', '5good quality product❣️❣️❣️❣️READ MORE', '5goodREAD MORE', \"1third class don't buy this brand productsREAD MORE\", '5nice productREAD MORE', '4goodREAD MORE', '3GoodREAD MORE', '5superREAD MORE', '4goodREAD MORE', '1product badREAD MORE'], ['5nice productsREAD MORE', '3goodREAD MORE', '5goodREAD MORE', '5nice chain very goodREAD MORE', '4Very Good productREAD MORE', '5nice productREAD MORE', '3It is in AverageREAD MORE', '4goodREAD MORE', '5goodREAD MORE', '5is the establishment apoREAD MORE'], ['5GoodREAD MORE', '5super  I loved itREAD MORE', '1HorribleREAD MORE', '1very badREAD MORE', '4nice productREAD MORE', '1Item was not goodREAD MORE', '3It was ok....but I found quality is not upto the mark hence I ReturnedREAD MORE', '3goodREAD MORE', '3prety goodREAD MORE', '5AwesomeREAD MORE'], ['1not goodREAD MORE', '2puar prodekt me use no like black padgya heREAD MORE', '5very good productREAD MORE', '1very low quality and color very bad productREAD MORE', '5AmazingREAD MORE', '5SuperREAD MORE', '4thanksREAD MORE', '4okREAD MORE', '5GoodREAD MORE', '3nice productREAD MORE'], ['5goodREAD MORE', '1very short chain and finishing not goodREAD MORE', '5very good and my frnds liked it and asked one more order for themREAD MORE', '5very niceREAD MORE', '4goodREAD MORE', '3it looks artificialREAD MORE', '5goodREAD MORE', '2poor qualityREAD MORE', '5suparREAD MORE', '5niceREAD MORE'], ['5superREAD MORE', '2Thomas thinREAD MORE', '5aslamREAD MORE', '5great.. .READ MORE', '1not betterREAD MORE', '5Keep rolling guys gud stuffREAD MORE', '5niceREAD MORE', '5okREAD MORE', '5okREAD MORE', '5best jawelaryREAD MORE'], [\"4it's goodREAD MORE\", '5niceREAD MORE', '1wrost productREAD MORE', '5very goodREAD MORE', \"1Remove color after 10 day's uses...READ MORE\", '5goodREAD MORE', '5SuparREAD MORE', '1not goodREAD MORE', '5OkREAD MORE', '3NiceREAD MORE'], ['5niceREAD MORE', '4GoodREAD MORE', '5niceREAD MORE', '5superREAD MORE', '5food productsREAD MORE', '2okREAD MORE', '4GoodREAD MORE', '1Bad productREAD MORE', '5GoodREAD MORE', '4niceREAD MORE'], ['5very nice product..READ MORE', '1Very badREAD MORE']]\n"
     ]
    }
   ],
   "source": [
    "rev_head=[]\n",
    "user_name=[]\n",
    "rev_desc=[]\n",
    "for i in range(0,totalpages):\n",
    "    print(url_new)\n",
    "    full_reviews=reviews_full.find_all('div',{'class':'ooJZfD _2oZ8XT col-9-12'})\n",
    "    for r in full_reviews:\n",
    "        rev=r.find_all('div',{'class':'_2t8wE0'})\n",
    "        rev=[e.get_text() for e in rev]\n",
    "        user=r.find_all('p',{'class':'_3LYOAd _3sxSiS _2675cp'})\n",
    "        user=[e.get_text() for e in user]\n",
    "        desc=r.find_all('div',{'class':'qwjRop'})\n",
    "        desc=[e.get_text() for e in desc]\n",
    "        rev_head.append(rev)\n",
    "        user_name.append(user)\n",
    "        rev_desc.append(desc)\n",
    "    next_u=reviews_full.find_all('a',{'class':'_3fVaIS'})\n",
    "    val=next_u[0].span.get_text()\n",
    "    if val=='Previous' and len(next_u)==1:\n",
    "        print('Completed')\n",
    "        break\n",
    "    elif val!='Next':\n",
    "        next_url=next_u[1].get('href')\n",
    "    #print('val !=Next',val)\n",
    "    #print(next_u[1])\n",
    "    elif val=='Next':\n",
    "        next_url=next_u[0].get('href')\n",
    "        #print('val ==Next',val)\n",
    "        #print(next_u[0])\n",
    "    url_new=URL+next_url\n",
    "    req_data_review=requests.get(url_new)\n",
    "    reviews_full=bs(req_data_review.content,'html.parser')\n",
    "\n",
    "print(rev_head)\n",
    "print('\\n\\n')\n",
    "print(user_name)\n",
    "print('\\n\\n')\n",
    "print(rev_desc)"
   ]
  }
 ],
 "metadata": {
  "kernelspec": {
   "display_name": "Python 3",
   "language": "python",
   "name": "python3"
  },
  "language_info": {
   "codemirror_mode": {
    "name": "ipython",
    "version": 3
   },
   "file_extension": ".py",
   "mimetype": "text/x-python",
   "name": "python",
   "nbconvert_exporter": "python",
   "pygments_lexer": "ipython3",
   "version": "3.7.4"
  }
 },
 "nbformat": 4,
 "nbformat_minor": 2
}
